{
 "cells": [
  {
   "cell_type": "markdown",
   "id": "08de5440",
   "metadata": {},
   "source": [
    "# Importing Libraries\n"
   ]
  },
  {
   "cell_type": "code",
   "execution_count": 1,
   "id": "d98ab0d8",
   "metadata": {},
   "outputs": [],
   "source": [
    "import cv2\n",
    "import uuid\n",
    "import os"
   ]
  },
  {
   "cell_type": "markdown",
   "id": "88e5a9b8",
   "metadata": {},
   "source": [
    "# Image Capture\n"
   ]
  },
  {
   "cell_type": "code",
   "execution_count": 2,
   "id": "9816fa75",
   "metadata": {},
   "outputs": [],
   "source": [
    "# This code will create Images Folder in your current directory\n",
    "# And 2 additional folders named Mask and No Mask will be created inside of Images Folder\n",
    "# If they are pre-existing, No problem, this code will be by-passed\n",
    "\n",
    "image_dir = \"Images\"\n",
    "mask_dir = os.path.join(image_dir, \"Mask\")\n",
    "no_mask_dir = os.path.join(image_dir, \"No Mask\")\n",
    "\n",
    "if not os.path.exists(image_dir):\n",
    "    os.makedirs(image_dir)\n",
    "\n",
    "if not os.path.exists(mask_dir):\n",
    "    os.makedirs(mask_dir)\n",
    "\n",
    "if not os.path.exists(no_mask_dir):\n",
    "    os.makedirs(no_mask_dir)"
   ]
  },
  {
   "cell_type": "code",
   "execution_count": 3,
   "id": "47d7c496",
   "metadata": {},
   "outputs": [],
   "source": [
    "# Declaring camera variable to capture the video from the system's WebCam\n",
    "# Use 0 for the default camera or specify the camera index\n",
    "camera = cv2.VideoCapture(0)  "
   ]
  },
  {
   "cell_type": "markdown",
   "id": "cb1b43ea",
   "metadata": {},
   "source": [
    "# Run this code to save Images to Mask Foler\n",
    "### Press 'S' to save the current frame as image\n",
    "### Press 'ESC' to to exit the camera frame"
   ]
  },
  {
   "cell_type": "code",
   "execution_count": 4,
   "id": "0e3d2d76",
   "metadata": {},
   "outputs": [
    {
     "name": "stdout",
     "output_type": "stream",
     "text": [
      "Image 1 saved!\n",
      "Image 2 saved!\n",
      "Image 3 saved!\n",
      "Image 4 saved!\n",
      "Image 5 saved!\n",
      "Image 6 saved!\n",
      "Image 7 saved!\n",
      "Image 8 saved!\n",
      "Image 9 saved!\n",
      "Image 10 saved!\n",
      "Image 11 saved!\n",
      "Image 12 saved!\n",
      "Image 13 saved!\n",
      "Image 14 saved!\n",
      "Image 15 saved!\n",
      "Image 16 saved!\n",
      "Image 17 saved!\n",
      "Image 18 saved!\n",
      "Image 19 saved!\n",
      "Image 20 saved!\n",
      "Image 21 saved!\n",
      "Image 22 saved!\n",
      "Image 23 saved!\n",
      "Image 24 saved!\n",
      "Image 25 saved!\n",
      "Image 26 saved!\n",
      "Image 27 saved!\n",
      "Image 28 saved!\n",
      "Image 29 saved!\n",
      "Image 30 saved!\n",
      "Image 31 saved!\n",
      "Image 32 saved!\n",
      "Image 33 saved!\n",
      "Image 34 saved!\n",
      "Image 35 saved!\n",
      "Image 36 saved!\n",
      "Image 37 saved!\n",
      "Image 38 saved!\n",
      "Image 39 saved!\n",
      "Image 40 saved!\n",
      "Image 41 saved!\n",
      "Image 42 saved!\n",
      "Image 43 saved!\n",
      "Image 44 saved!\n",
      "Image 45 saved!\n",
      "Image 46 saved!\n",
      "Image 47 saved!\n",
      "Image 48 saved!\n",
      "Image 49 saved!\n",
      "Image 50 saved!\n",
      "Image 51 saved!\n",
      "Image 52 saved!\n",
      "Image 53 saved!\n",
      "Image 54 saved!\n",
      "Image 55 saved!\n",
      "Image 56 saved!\n",
      "Image 57 saved!\n",
      "Image 58 saved!\n",
      "Image 59 saved!\n",
      "Image 60 saved!\n",
      "Image 61 saved!\n",
      "Image 62 saved!\n",
      "Image 63 saved!\n",
      "Image 64 saved!\n",
      "Image 65 saved!\n",
      "Image 66 saved!\n",
      "Image 67 saved!\n",
      "Image 68 saved!\n",
      "Image 69 saved!\n",
      "Image 70 saved!\n",
      "Image 71 saved!\n"
     ]
    }
   ],
   "source": [
    "image_count = 0  # Counter for the captured images\n",
    "\n",
    "while True:\n",
    "    # Read the frame from the camera\n",
    "    ret, frame = camera.read()  \n",
    "\n",
    "    # Display the frame\n",
    "    cv2.imshow(\"Camera\", frame)  \n",
    "\n",
    "    key = cv2.waitKey(1)\n",
    "    if key == ord(\"s\"):  # Press 's' to save the current frame\n",
    "        image_count += 1\n",
    "        image_path = os.path.join(mask_dir, f\"image{image_count}.jpg\")\n",
    "        cv2.imwrite(image_path, frame)\n",
    "        print(f\"Image {image_count} saved!\")\n",
    "    elif key == 27:  # Press Esc to exit\n",
    "        break\n",
    "\n",
    "camera.release()  # Release the camera\n",
    "cv2.destroyAllWindows()  # Close all OpenCV windows\n"
   ]
  },
  {
   "cell_type": "markdown",
   "id": "579b2442",
   "metadata": {},
   "source": [
    "# Run this code to save Images to No Mask Foler\n",
    "### Press 'S' to save the current frame as image\n",
    "### Press 'ESC' to to exit the camera frame"
   ]
  },
  {
   "cell_type": "code",
   "execution_count": 4,
   "id": "53a1a086",
   "metadata": {},
   "outputs": [],
   "source": [
    "camera = cv2.VideoCapture(0)  "
   ]
  },
  {
   "cell_type": "code",
   "execution_count": 5,
   "id": "e7e0bdca",
   "metadata": {},
   "outputs": [
    {
     "name": "stdout",
     "output_type": "stream",
     "text": [
      "Image 1 saved!\n",
      "Image 2 saved!\n",
      "Image 3 saved!\n",
      "Image 4 saved!\n",
      "Image 5 saved!\n",
      "Image 6 saved!\n",
      "Image 7 saved!\n",
      "Image 8 saved!\n",
      "Image 9 saved!\n",
      "Image 10 saved!\n",
      "Image 11 saved!\n",
      "Image 12 saved!\n",
      "Image 13 saved!\n",
      "Image 14 saved!\n",
      "Image 15 saved!\n",
      "Image 16 saved!\n",
      "Image 17 saved!\n",
      "Image 18 saved!\n",
      "Image 19 saved!\n",
      "Image 20 saved!\n",
      "Image 21 saved!\n",
      "Image 22 saved!\n",
      "Image 23 saved!\n",
      "Image 24 saved!\n",
      "Image 25 saved!\n",
      "Image 26 saved!\n",
      "Image 27 saved!\n",
      "Image 28 saved!\n",
      "Image 29 saved!\n",
      "Image 30 saved!\n",
      "Image 31 saved!\n",
      "Image 32 saved!\n",
      "Image 33 saved!\n",
      "Image 34 saved!\n",
      "Image 35 saved!\n",
      "Image 36 saved!\n",
      "Image 37 saved!\n",
      "Image 38 saved!\n",
      "Image 39 saved!\n",
      "Image 40 saved!\n",
      "Image 41 saved!\n",
      "Image 42 saved!\n",
      "Image 43 saved!\n",
      "Image 44 saved!\n",
      "Image 45 saved!\n",
      "Image 46 saved!\n",
      "Image 47 saved!\n",
      "Image 48 saved!\n",
      "Image 49 saved!\n",
      "Image 50 saved!\n",
      "Image 51 saved!\n",
      "Image 52 saved!\n",
      "Image 53 saved!\n",
      "Image 54 saved!\n",
      "Image 55 saved!\n",
      "Image 56 saved!\n",
      "Image 57 saved!\n",
      "Image 58 saved!\n",
      "Image 59 saved!\n",
      "Image 60 saved!\n",
      "Image 61 saved!\n",
      "Image 62 saved!\n",
      "Image 63 saved!\n",
      "Image 64 saved!\n",
      "Image 65 saved!\n",
      "Image 66 saved!\n"
     ]
    }
   ],
   "source": [
    "image_count = 0  # Counter for the captured images\n",
    "\n",
    "while True:\n",
    "    # Read the frame from the camera\n",
    "    ret, frame = camera.read()  \n",
    "\n",
    "    # Display the frame\n",
    "    cv2.imshow(\"Camera\", frame)  \n",
    "\n",
    "    key = cv2.waitKey(1)\n",
    "    if key == ord(\"s\"):  # Press 's' to save the current frame\n",
    "        image_count += 1\n",
    "        image_path = os.path.join(no_mask_dir, f\"image{image_count}.jpg\")\n",
    "        cv2.imwrite(image_path, frame)\n",
    "        print(f\"Image {image_count} saved!\")\n",
    "    elif key == 27:  # Press Esc to exit\n",
    "        break\n",
    "\n",
    "camera.release()  # Release the camera\n",
    "cv2.destroyAllWindows()  # Close all OpenCV windows\n"
   ]
  },
  {
   "cell_type": "code",
   "execution_count": null,
   "id": "b61c61bb",
   "metadata": {},
   "outputs": [],
   "source": []
  }
 ],
 "metadata": {
  "kernelspec": {
   "display_name": "Python 3 (ipykernel)",
   "language": "python",
   "name": "python3"
  },
  "language_info": {
   "codemirror_mode": {
    "name": "ipython",
    "version": 3
   },
   "file_extension": ".py",
   "mimetype": "text/x-python",
   "name": "python",
   "nbconvert_exporter": "python",
   "pygments_lexer": "ipython3",
   "version": "3.8.9"
  }
 },
 "nbformat": 4,
 "nbformat_minor": 5
}
